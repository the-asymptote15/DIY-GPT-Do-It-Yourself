{
 "cells": [
  {
   "cell_type": "markdown",
   "metadata": {},
   "source": [
    "*JAI SHREE RADHE KRISHNA*"
   ]
  },
  {
   "cell_type": "code",
   "execution_count": 2,
   "metadata": {},
   "outputs": [],
   "source": [
    "import torch\n",
    "import torch.nn as nn\n",
    "from torch.nn import functional as F\n"
   ]
  },
  {
   "cell_type": "code",
   "execution_count": 21,
   "metadata": {},
   "outputs": [],
   "source": [
    "\n",
    "# hyperparameters\n",
    "batch_size = 4 # how many independent sequences will we process in parallel?\n",
    "block_size = 8 # what is the maximum context length for predictions?\n",
    "max_iters = 3000\n",
    "eval_interval = 300\n",
    "learning_rate = 1e-2\n",
    "device = 'cuda' if torch.cuda.is_available() else 'cpu'\n",
    "eval_iters = 200\n",
    "# ------------\n"
   ]
  },
  {
   "cell_type": "code",
   "execution_count": 22,
   "metadata": {},
   "outputs": [],
   "source": [
    "\n",
    "torch.manual_seed(1337)\n",
    "\n",
    "# wget https://raw.githubusercontent.com/karpathy/char-rnn/master/data/tinyshakespeare/input.txt\n",
    "with open('input.txt', 'r', encoding='utf-8') as f:\n",
    "    text = f.read()\n",
    "\n",
    "# here are all the unique characters that occur in this text\n",
    "chars = sorted(list(set(text)))\n",
    "vocab_size = len(chars)\n",
    "# create a mapping from characters to integers\n",
    "stoi = { ch:i for i,ch in enumerate(chars) }\n",
    "itos = { i:ch for i,ch in enumerate(chars) }\n",
    "encode = lambda s: [stoi[c] for c in s] # encoder: take a string, output a list of integers\n",
    "decode = lambda l: ''.join([itos[i] for i in l]) # decoder: take a list of integers, output a string\n",
    "\n",
    "# Train and test splits\n",
    "data = torch.tensor(encode(text), dtype=torch.long)\n",
    "n = int(0.9*len(data)) # first 90% will be train, rest val\n",
    "train_data = data[:n]\n",
    "val_data = data[n:]"
   ]
  },
  {
   "cell_type": "code",
   "execution_count": 23,
   "metadata": {},
   "outputs": [],
   "source": [
    "def get_batch(split):\n",
    "    # generate a small batch of data of inputs x and targets y\n",
    "    data = train_data if split == 'train' else val_data\n",
    "    ix = torch.randint(len(data) - block_size, (batch_size,))\n",
    "    x = torch.stack([data[i:i+block_size] for i in ix])\n",
    "    y = torch.stack([data[i+1:i+block_size+1] for i in ix])\n",
    "    x, y = x.to(device), y.to(device)\n",
    "    return x, y"
   ]
  },
  {
   "cell_type": "code",
   "execution_count": 24,
   "metadata": {},
   "outputs": [
    {
     "name": "stdout",
     "output_type": "stream",
     "text": [
      "inputs\n",
      "torch.Size([4, 8])\n",
      "tensor([[38,  1, 57, 47, 53,  1, 55, 37],\n",
      "        [37, 50, 37,  4,  0, 10, 46, 36],\n",
      "        [45, 57,  1, 38, 33, 52, 40, 37],\n",
      "        [ 1, 40, 33, 52, 40,  1, 34, 50]])\n",
      "Targets:\n",
      "torch.Size([4, 8])\n",
      "tensor([[ 1, 57, 47, 53,  1, 55, 37, 50],\n",
      "        [50, 37,  4,  0, 10, 46, 36,  1],\n",
      "        [57,  1, 38, 33, 52, 40, 37, 50],\n",
      "        [40, 33, 52, 40,  1, 34, 50, 37]])\n",
      "----------------------------------------------------------------------------------------------------\n",
      "When input is [38], the target is 1\n",
      "When input is [38, 1], the target is 57\n",
      "When input is [38, 1, 57], the target is 47\n",
      "When input is [38, 1, 57, 47], the target is 53\n",
      "When input is [38, 1, 57, 47, 53], the target is 1\n",
      "When input is [37], the target is 50\n",
      "When input is [37, 50], the target is 37\n",
      "When input is [37, 50, 37], the target is 4\n",
      "When input is [37, 50, 37, 4], the target is 0\n",
      "When input is [37, 50, 37, 4, 0], the target is 10\n",
      "When input is [45], the target is 57\n",
      "When input is [45, 57], the target is 1\n",
      "When input is [45, 57, 1], the target is 38\n",
      "When input is [45, 57, 1, 38], the target is 33\n",
      "When input is [45, 57, 1, 38, 33], the target is 52\n",
      "When input is [1], the target is 40\n",
      "When input is [1, 40], the target is 33\n",
      "When input is [1, 40, 33], the target is 52\n",
      "When input is [1, 40, 33, 52], the target is 40\n",
      "When input is [1, 40, 33, 52, 40], the target is 1\n"
     ]
    }
   ],
   "source": [
    "torch.manual_seed(1337)\n",
    "xb , yb =get_batch('train')\n",
    "print('inputs')\n",
    "print(xb.shape)\n",
    "print(xb)\n",
    "print('Targets:')\n",
    "print(yb.shape)\n",
    "print(yb)\n",
    "print('-'*100)\n",
    "for b in range(batch_size):\n",
    "    for t in range(batch_size+1):\n",
    "      context = xb[b,:t+1]\n",
    "      target = yb[b,t]\n",
    "      print(f\"When input is {context.tolist()}, the target is {target}\")"
   ]
  },
  {
   "cell_type": "code",
   "execution_count": 47,
   "metadata": {},
   "outputs": [
    {
     "name": "stdout",
     "output_type": "stream",
     "text": [
      "torch.Size([256, 59])\n",
      "tensor(4.6577, grad_fn=<NllLossBackward0>)\n",
      "\n",
      "HmtrDri-HioexqvyfUphVtF\n",
      "KQmerBA? h\n",
      "jNU?gqihiYbot,KERFmopuC': MS.Nsv rq!Bik\n",
      "WviMx;.eRV\n",
      "G-,qsPqzMYyu-T\n"
     ]
    }
   ],
   "source": [
    "import torch\n",
    "import torch.nn as nn\n",
    "from torch.nn import functional as F\n",
    "torch.manual_seed(1337)\n",
    "\n",
    "class BigramLanguageModel(nn.Module):\n",
    "\n",
    "    def __init__(self, vocab_size):\n",
    "        super().__init__()\n",
    "        self.token_embedding_table = nn.Embedding(vocab_size,vocab_size)\n",
    "    def forward(self, idx, targets=None):\n",
    "        logits = self.token_embedding_table(idx)\n",
    "        if targets is None:\n",
    "            loss = None\n",
    "        else:\n",
    "            B, T, C = logits.shape\n",
    "            logits = logits.view(B*T, C)\n",
    "            targets = targets.view(B*T)\n",
    "            loss = F.cross_entropy(logits, targets)\n",
    "\n",
    "        return logits, loss\n",
    "    def generate(self, idx, max_new_tokens):\n",
    "        for _ in range(max_new_tokens):\n",
    "            logits, loss = self(idx)\n",
    "\n",
    "            logits = logits[:,-1,:]\n",
    "            probs = F.softmax(logits,dim=-1)\n",
    "            idx_next = torch.multinomial(probs, num_samples=1)\n",
    "            idx = torch.cat((idx, idx_next), dim=1)  # (B,T+1)\n",
    "        return idx\n",
    "    \n",
    "\n",
    "m=BigramLanguageModel(vocab_size)\n",
    "logits, loss = m(xb, yb)\n",
    "print(logits.shape)\n",
    "print(loss)\n",
    "\n",
    "print(decode(m.generate(idx=torch.zeros((1,1), dtype=torch.long),max_new_tokens=100)[0].tolist()))"
   ]
  },
  {
   "cell_type": "code",
   "execution_count": 48,
   "metadata": {},
   "outputs": [],
   "source": [
    "optimizer = torch.optim.AdamW(m.parameters(), lr=1e-3)"
   ]
  },
  {
   "cell_type": "code",
   "execution_count": 51,
   "metadata": {},
   "outputs": [
    {
     "name": "stdout",
     "output_type": "stream",
     "text": [
      "2.30324649810791\n"
     ]
    }
   ],
   "source": [
    "batch_size = 32\n",
    "for steps in range(10000):\n",
    "    xb, yb = get_batch('train')\n",
    "    # print(xb,yb)\n",
    "    logits, loss = m(xb,yb)\n",
    "    # print(logits,loss)\n",
    "    optimizer.zero_grad(set_to_none=True)\n",
    "    loss.backward()\n",
    "    optimizer.step()\n",
    "print(loss.item())    "
   ]
  },
  {
   "cell_type": "code",
   "execution_count": 54,
   "metadata": {},
   "outputs": [
    {
     "name": "stdout",
     "output_type": "stream",
     "text": [
      "\n",
      "\n",
      "y chexte, ls hefe ay s s'sposa od,\n",
      "\n",
      "I ouse avorerelaur;' k, y st hexthemy hed and yol my tomonar CI tharge seen f monon\n",
      "\n",
      "I r;\n",
      "\n",
      "N tiftou'th Gole uche inlsau?\n",
      "Anty he.\n",
      "Am\n",
      "Tofughalas st, I islfraitor omaghin ouanoarer t nk.\n",
      "Hirfily d inspouf ave ffantom lfous Goncobanguanomat s. inofustoraveessond\n",
      "\n",
      "Thecece dy re the wfow.\n",
      "Won Wiminde, tanllllllle GRDIO:\n",
      "IONCantowad bemimepe! Clano ma- w tace;\n",
      "LULE: he of y ss.\n",
      "I hey bl t f, imupr mar-f I len!\n",
      "\n",
      "IAhisurk; ce fan be haseThim h VANThesthemyed y m seld\n"
     ]
    }
   ],
   "source": [
    "print(decode(m.generate(idx=torch.zeros((1,1), dtype=torch.long),max_new_tokens=500)[0].tolist()))"
   ]
  },
  {
   "cell_type": "code",
   "execution_count": null,
   "metadata": {},
   "outputs": [],
   "source": []
  }
 ],
 "metadata": {
  "kernelspec": {
   "display_name": "Python 3",
   "language": "python",
   "name": "python3"
  },
  "language_info": {
   "codemirror_mode": {
    "name": "ipython",
    "version": 3
   },
   "file_extension": ".py",
   "mimetype": "text/x-python",
   "name": "python",
   "nbconvert_exporter": "python",
   "pygments_lexer": "ipython3",
   "version": "3.10.0"
  }
 },
 "nbformat": 4,
 "nbformat_minor": 2
}
